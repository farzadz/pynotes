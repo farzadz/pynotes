{
 "cells": [
  {
   "cell_type": "markdown",
   "metadata": {},
   "source": [
    "# Decorators"
   ]
  },
  {
   "cell_type": "markdown",
   "metadata": {},
   "source": [
    "## Simple Decorator"
   ]
  },
  {
   "cell_type": "markdown",
   "metadata": {},
   "source": [
    "Let's start with a decorator that just adds a greeting message \"Greeting!\" before the decorated function execution:"
   ]
  },
  {
   "cell_type": "code",
   "execution_count": 29,
   "metadata": {
    "collapsed": false
   },
   "outputs": [],
   "source": [
    "def greet(function): #Decorator definition\n",
    "    def wrapper(*args, **kwargs): #Extended function to be used after decoration\n",
    "        \"\"\"greet wrapper\"\"\"\n",
    "        print(\"Greetins!\")\n",
    "        return function(*args, **kwargs)  \n",
    "    return wrapper\n",
    "\n",
    "@greet\n",
    "def say_hello(name):\n",
    "    \"\"\"says hello to the input\"\"\"\n",
    "    print('hello', name)\n",
    "\n",
    "    \n",
    "@greet \n",
    "def add_two(first, second): # adds two numbers\n",
    "    return first + second \n",
    "\n"
   ]
  },
  {
   "cell_type": "code",
   "execution_count": 30,
   "metadata": {
    "collapsed": false
   },
   "outputs": [
    {
     "name": "stdout",
     "output_type": "stream",
     "text": [
      "Greetins!\n",
      "hello yoyo\n",
      "Greetins!\n",
      "5\n"
     ]
    }
   ],
   "source": [
    "say_hello('yoyo')\n",
    "print(add_two(3,2))"
   ]
  },
  {
   "cell_type": "code",
   "execution_count": 31,
   "metadata": {
    "collapsed": false
   },
   "outputs": [
    {
     "data": {
      "text/plain": [
       "'greet wrapper'"
      ]
     },
     "execution_count": 31,
     "metadata": {},
     "output_type": "execute_result"
    }
   ],
   "source": [
    "say_hello.__doc__"
   ]
  },
  {
   "cell_type": "markdown",
   "metadata": {},
   "source": [
    "Using such decorators is equvalent of:"
   ]
  },
  {
   "cell_type": "code",
   "execution_count": 32,
   "metadata": {
    "collapsed": true
   },
   "outputs": [],
   "source": [
    "say_hello = greet(say_hello)"
   ]
  },
  {
   "cell_type": "markdown",
   "metadata": {},
   "source": [
    "This causes docstrings of the original function to be substituted with the ones of the wrapper. By using [@wraps](https://docs.python.org/2/library/functools.html#functools.wraps) from functools.\n",
    "    "
   ]
  },
  {
   "cell_type": "code",
   "execution_count": 20,
   "metadata": {
    "collapsed": false
   },
   "outputs": [
    {
     "name": "stdout",
     "output_type": "stream",
     "text": [
      "says hello to the input\n"
     ]
    }
   ],
   "source": [
    "from functools import wraps\n",
    "\n",
    "def greet(function): \n",
    "    @wraps(function)  # This line has been added\n",
    "    def wrapper(*args, **kwargs):\n",
    "        \"\"\"greet wrapper\"\"\"\n",
    "        print(\"Greetins!\")\n",
    "        return function(*args, **kwargs)  \n",
    "    return wrapper\n",
    "\n",
    "@greet\n",
    "def say_hello(name):\n",
    "    \"\"\"says hello to the input\"\"\"\n",
    "    print('hello', name)\n"
   ]
  },
  {
   "cell_type": "markdown",
   "metadata": {},
   "source": [
    "Now, the docstrins of say_hello are preserved, although the decorator enhancements are getting utilized:"
   ]
  },
  {
   "cell_type": "code",
   "execution_count": 21,
   "metadata": {
    "collapsed": false
   },
   "outputs": [
    {
     "name": "stdout",
     "output_type": "stream",
     "text": [
      "Greetins!\n",
      "hello yoyo\n",
      "says hello to the input\n"
     ]
    }
   ],
   "source": [
    "say_hello(\"yoyo\")\n",
    "print(say_hello.__doc__)"
   ]
  },
  {
   "cell_type": "markdown",
   "metadata": {},
   "source": [
    "## Checking inputs "
   ]
  },
  {
   "cell_type": "markdown",
   "metadata": {},
   "source": [
    " Now let's check the input type of the functions with a decorator, here we oblige string type on all the arguments:"
   ]
  },
  {
   "cell_type": "code",
   "execution_count": 22,
   "metadata": {
    "collapsed": false
   },
   "outputs": [],
   "source": [
    "def string_checker_decorator(function):   #Decorator definition\n",
    "    @wraps(function)\n",
    "    def wrapper(*args):   \n",
    "        for arg in args:\n",
    "            if type(arg) != str:\n",
    "                raise ValueError(\"Inputs should be of string type.\")\n",
    "        return function(*args)\n",
    "    return wrapper\n"
   ]
  },
  {
   "cell_type": "code",
   "execution_count": 23,
   "metadata": {
    "collapsed": false
   },
   "outputs": [],
   "source": [
    "@string_checker_decorator\n",
    "def print_strings(string_1, string_2): \n",
    "    #Just attaches two strings and prints them!\n",
    "    print(string_1, string_2)"
   ]
  },
  {
   "cell_type": "markdown",
   "metadata": {},
   "source": [
    "Checking if print_string function works:"
   ]
  },
  {
   "cell_type": "code",
   "execution_count": 24,
   "metadata": {
    "collapsed": false
   },
   "outputs": [
    {
     "name": "stdout",
     "output_type": "stream",
     "text": [
      "hello my friend!\n"
     ]
    }
   ],
   "source": [
    "print_strings(\"hello\", \"my friend!\")"
   ]
  },
  {
   "cell_type": "code",
   "execution_count": 8,
   "metadata": {
    "collapsed": false
   },
   "outputs": [
    {
     "ename": "ValueError",
     "evalue": "Inputs should be of string type.",
     "output_type": "error",
     "traceback": [
      "\u001b[0;31m---------------------------------------------------------------------------\u001b[0m",
      "\u001b[0;31mValueError\u001b[0m                                Traceback (most recent call last)",
      "\u001b[0;32m<ipython-input-8-05be96e80738>\u001b[0m in \u001b[0;36m<module>\u001b[0;34m()\u001b[0m\n\u001b[0;32m----> 1\u001b[0;31m \u001b[0mprint_strings\u001b[0m\u001b[0;34m(\u001b[0m\u001b[0;34m[\u001b[0m\u001b[0;34m'string'\u001b[0m\u001b[0;34m]\u001b[0m\u001b[0;34m,\u001b[0m \u001b[0;36m3\u001b[0m\u001b[0;34m)\u001b[0m\u001b[0;34m\u001b[0m\u001b[0m\n\u001b[0m",
      "\u001b[0;32m<ipython-input-5-936fc911eec4>\u001b[0m in \u001b[0;36mwrapper\u001b[0;34m(*args)\u001b[0m\n\u001b[1;32m      3\u001b[0m         \u001b[0;32mfor\u001b[0m \u001b[0marg\u001b[0m \u001b[0;32min\u001b[0m \u001b[0margs\u001b[0m\u001b[0;34m:\u001b[0m\u001b[0;34m\u001b[0m\u001b[0m\n\u001b[1;32m      4\u001b[0m             \u001b[0;32mif\u001b[0m \u001b[0mtype\u001b[0m\u001b[0;34m(\u001b[0m\u001b[0marg\u001b[0m\u001b[0;34m)\u001b[0m \u001b[0;34m!=\u001b[0m \u001b[0mstr\u001b[0m\u001b[0;34m:\u001b[0m\u001b[0;34m\u001b[0m\u001b[0m\n\u001b[0;32m----> 5\u001b[0;31m                 \u001b[0;32mraise\u001b[0m \u001b[0mValueError\u001b[0m\u001b[0;34m(\u001b[0m\u001b[0;34m\"Inputs should be of string type.\"\u001b[0m\u001b[0;34m)\u001b[0m\u001b[0;34m\u001b[0m\u001b[0m\n\u001b[0m\u001b[1;32m      6\u001b[0m         \u001b[0;32mreturn\u001b[0m \u001b[0mfunction\u001b[0m\u001b[0;34m(\u001b[0m\u001b[0;34m*\u001b[0m\u001b[0margs\u001b[0m\u001b[0;34m)\u001b[0m\u001b[0;34m\u001b[0m\u001b[0m\n\u001b[1;32m      7\u001b[0m     \u001b[0;32mreturn\u001b[0m \u001b[0mwrapper\u001b[0m\u001b[0;34m\u001b[0m\u001b[0m\n",
      "\u001b[0;31mValueError\u001b[0m: Inputs should be of string type."
     ]
    }
   ],
   "source": [
    "print_strings(['string'], 3)"
   ]
  },
  {
   "cell_type": "markdown",
   "metadata": {},
   "source": [
    "## Checking global states "
   ]
  },
  {
   "cell_type": "markdown",
   "metadata": {},
   "source": [
    "In some cases preforming some checks in the environment is required before a function call (Checking user permissions in web programming before calling a view function i.e.)\n",
    "Decorators could be utilized for these situations."
   ]
  },
  {
   "cell_type": "code",
   "execution_count": 41,
   "metadata": {
    "collapsed": false
   },
   "outputs": [
    {
     "name": "stdout",
     "output_type": "stream",
     "text": [
      "you are logged in. Congrats!\n"
     ]
    }
   ],
   "source": [
    "logged_in = False\n",
    "\n",
    "def login_req(function):\n",
    "    @wraps(function)\n",
    "    def wrapper(*args, **kwargs):\n",
    "        if not logged_in:\n",
    "            raise AttributeError(\"User should be logged in for this function.\")\n",
    "        return function(*args, **kwargs)\n",
    "    return wrapper\n",
    "\n",
    "@login_req\n",
    "def hello_user():\n",
    "    print(\"you are logged in. Congrats!\")\n",
    "\n",
    "    \n",
    "# hello_user() # Throws an exception \n",
    "\n",
    "logged_in = True\n",
    "\n",
    "hello_user()\n"
   ]
  },
  {
   "cell_type": "markdown",
   "metadata": {},
   "source": [
    "## Decorators with arguments"
   ]
  },
  {
   "cell_type": "markdown",
   "metadata": {},
   "source": [
    "Sometimes there is a need to pass parameters to a decorator. By this, we can add the dynamic generation of decorators instead of defining them one by one."
   ]
  },
  {
   "cell_type": "code",
   "execution_count": 54,
   "metadata": {
    "collapsed": false
   },
   "outputs": [
    {
     "name": "stdout",
     "output_type": "stream",
     "text": [
      "jojo is your name.\n",
      "yoyo is your surname.\n"
     ]
    }
   ],
   "source": [
    "def check_kwarg(key):   # This function is the creator of decorators\n",
    "    def decorator(function): # Just like a normal decorator as above\n",
    "        @wraps(function)\n",
    "        def wrapper(*args, **kwargs):\n",
    "            if key not in kwargs:\n",
    "                raise KeyError(\"Key <%s> should be amongst args\" % key)\n",
    "            return function(*args, **kwargs)\n",
    "        return wrapper\n",
    "    return decorator\n",
    "\n",
    "@check_kwarg('name')\n",
    "@check_kwarg('family')\n",
    "def check_name(**kwargs):\n",
    "    print(kwargs['name'] + \" is your name.\")\n",
    "    print(kwargs['family'] + \" is your surname.\")\n",
    "\n",
    "check_name(name='jojo', family='yoyo')"
   ]
  },
  {
   "cell_type": "code",
   "execution_count": null,
   "metadata": {
    "collapsed": true
   },
   "outputs": [],
   "source": []
  }
 ],
 "metadata": {
  "kernelspec": {
   "display_name": "Python 3",
   "language": "python",
   "name": "python3"
  },
  "language_info": {
   "codemirror_mode": {
    "name": "ipython",
    "version": 3
   },
   "file_extension": ".py",
   "mimetype": "text/x-python",
   "name": "python",
   "nbconvert_exporter": "python",
   "pygments_lexer": "ipython3",
   "version": "3.5.2"
  }
 },
 "nbformat": 4,
 "nbformat_minor": 2
}
