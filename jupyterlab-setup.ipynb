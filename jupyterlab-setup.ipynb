{
 "cells": [
  {
   "cell_type": "markdown",
   "metadata": {},
   "source": [
    "### Installing kernels in virtualenv \n",
    "\n",
    "To use jupyter kernels with virtual enviornments:\n",
    "\n",
    "```\n",
    "virtualenv myenv\n",
    "cd myenv/bin\n",
    "source activate\n",
    "\n",
    "### virtual env is activated\n",
    "\n",
    "pip install ipykernel\n",
    "ipython kernel install --user --name=myenv\n",
    "```\n",
    "And kernel will appear next time we run jupyter lab.\n"
   ]
  },
  {
   "cell_type": "markdown",
   "metadata": {},
   "source": [
    "### Managing jupyter kenels \n",
    "List kernels:\n",
    "```\n",
    "jupyter kernelspec list\n",
    "```\n",
    "\n",
    "Remove a kernel:\n",
    "\n",
    "```\n",
    "jupyter kernelspec remove mykernel\n",
    "```\n",
    "\n",
    "source [here](http://queirozf.com/entries/jupyter-kernels-how-to-add-change-remove)."
   ]
  }
 ],
 "metadata": {
  "kernelspec": {
   "display_name": "Python 3",
   "language": "python",
   "name": "python3"
  },
  "language_info": {
   "codemirror_mode": {
    "name": "ipython",
    "version": 3
   },
   "file_extension": ".py",
   "mimetype": "text/x-python",
   "name": "python",
   "nbconvert_exporter": "python",
   "pygments_lexer": "ipython3",
   "version": "3.6.9"
  }
 },
 "nbformat": 4,
 "nbformat_minor": 4
}
